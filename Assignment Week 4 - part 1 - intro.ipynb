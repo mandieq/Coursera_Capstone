{
 "cells": [
  {
   "cell_type": "markdown",
   "metadata": {},
   "source": [
    "# Assignment Week 4 - part 1 -  Introduction / Business Problem\n",
    "\n",
    "_Clearly define a problem or an idea of your choice, where you would need to leverage the Foursquare location data to solve or execute. Remember that data science problems always target an audience and are meant to help a group of stakeholders solve a problem, so make sure that you explicitly describe your audience and why they would care about your problem._\n",
    "\n",
    "_This submission will eventually become your Introduction/Business Problem section in your final report. So I recommend that you push the report (having your Introduction/Business Problem section only for now) to your Github repository and submit a link to it._"
   ]
  },
  {
   "cell_type": "markdown",
   "metadata": {},
   "source": [
    "### Background to business problem choice\n",
    "\n",
    "I've spent a number of years working with startups and hence have spent a large amount of time in WeWork offices around the world. I'm very interested in their success and the business model they have adopted. On that basis I've decided to focus on WeWork for this capstone project.\n",
    "\n",
    "### Business problem\n",
    "\n",
    "[WeWork](https://www.wework.com) is an American company, founded in 2010 and headquartered in New York City. Essentially they provide shared workspaces and have been very popular with technology startups, but also wider. They currently have 651 locations in 114 cities [around the world](https://www.wework.com/en-GB/locations).\n",
    "\n",
    "The question we aim to answer here is the following: \n",
    "\n",
    ">On the assumption that the current 47 London WeWork offices are successful, what links the areas in which they are situated and could inform future choices for office locations in London? Or asked another way, is there a particular type or number of types of neighbourhoods in which WeWork offices should be focused?\n",
    "\n",
    "The audience for this work is the WeWork - or potentially partners of theirs. Using this data WeWork could start to explore potential future locations for their offices. \n",
    "\n",
    "Note - a key assumption here is that the current WeWork offices are \"successful\". Success would need to be defined by WeWork i.e. profitable / high occupancy rates etc."
   ]
  }
 ],
 "metadata": {
  "kernelspec": {
   "display_name": "Python 3",
   "language": "python",
   "name": "python3"
  },
  "language_info": {
   "codemirror_mode": {
    "name": "ipython",
    "version": 3
   },
   "file_extension": ".py",
   "mimetype": "text/x-python",
   "name": "python",
   "nbconvert_exporter": "python",
   "pygments_lexer": "ipython3",
   "version": "3.7.1"
  }
 },
 "nbformat": 4,
 "nbformat_minor": 2
}
